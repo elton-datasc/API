{
 "cells": [
  {
   "cell_type": "code",
   "execution_count": 1,
   "id": "d49d629e",
   "metadata": {},
   "outputs": [],
   "source": [
    "import pandas as pd"
   ]
  },
  {
   "cell_type": "code",
   "execution_count": 2,
   "id": "70e58134",
   "metadata": {},
   "outputs": [],
   "source": [
    "vendas = {\n",
    "\n",
    "1:{\"produto\":\"refrigerante 2l\",\"un\":\"garrafa\", \"area\":\"padaria\",\"tipo\":\"bebida\",\"pu\":3.8},\n",
    "2:{\"produto\":\"refrigerante lata\",\"un\":\"lt\",\"area\":\"padaria\",\"tipo\":\"bebida\", \"pu\":1.5},\n",
    "3:{\"produto\":\"pão de caixa\",\"un\":\"un\",\"area\": \"padaria\",\"tipo\":\"pao\",\"pu\":2.},\n",
    "4:{\"produto\":\"catchup\",\"un\":\"bisnaga\", \"area\":\"condimentos\",\"tipo\":\"\",\"pu\":3.},\n",
    "5:{\"produto\":\"mostarda\",\"un\":\"bisnaga\",\"area\":\"condimentos\",\"tipo\":\"\",\"pu\":1.6},\n",
    "6:{\"produto\":\"maionese\",\"un\":\"bisnaga\",\"area\": \"condimentos\",\"tipo\":\"\",\"pu\":2.5},\n",
    "7:{\"produto\":\"tomate\",\"un\":\"kg\", \"area\":\"hortifruti\",\"tipo\":\"legume\",\"pu\":.8},\n",
    "8:{\"produto\":\"laranja\",\"un\":\"kg\",\"area\":\"hortifruti\",\"tipo\":\"fruta\",\"pu\":1.1},\n",
    "9:{\"produto\":\"banana\",\"un\":\"kg\",\"area\": \"hortifruti\",\"tipo\":\"fruta\",\"pu\":3.8},\n",
    "10:{\"produto\":\"laranja\",\"un\":\"kg\",\"area\": \"hortifruti\",\"tipo\":\"fruta\",\"pu\":1.1},\n",
    "11:{\"produto\":\"pão de caixa\",\"un\":\"kg\",\"area\": \"padaria\",\"tipo\":\"pao\",\"pu\":2.},\n",
    "12:{\"produto\":\"pão de caixa\",\"un\":\"kg\",\"area\": \"padaria\",\"tipo\":\"pao\",\"pu\":2.},\n",
    "13:{\"produto\":\"catchup\",\"un\":\"bisnaga\", \"area\":\"condimentos\",\"tipo\":\"\",\"pu\":3.},\n",
    "14:{\"produto\":\"mostarda\",\"un\":\"bisnaga\",\"area\":\"condimentos\",\"tipo\":\"\",\"pu\":1.6},\n",
    "\n",
    "}"
   ]
  },
  {
   "cell_type": "code",
   "execution_count": 3,
   "id": "70293a5d",
   "metadata": {},
   "outputs": [],
   "source": [
    "#l = [(vendas[i]['produto'],vendas[i]['pu']) for i in vendas]"
   ]
  },
  {
   "cell_type": "code",
   "execution_count": 4,
   "id": "9a180a5e",
   "metadata": {},
   "outputs": [],
   "source": [
    "#l"
   ]
  },
  {
   "cell_type": "code",
   "execution_count": 5,
   "id": "3a5dfd78",
   "metadata": {},
   "outputs": [
    {
     "data": {
      "text/plain": [
       "\"df = pd.DataFrame(l, columns =['Produtos', 'Preço_unitario']) \\nprint(df) \""
      ]
     },
     "execution_count": 5,
     "metadata": {},
     "output_type": "execute_result"
    }
   ],
   "source": [
    "'''df = pd.DataFrame(l, columns =['Produtos', 'Preço_unitario']) \n",
    "print(df) '''"
   ]
  },
  {
   "cell_type": "code",
   "execution_count": 6,
   "id": "fd33b924",
   "metadata": {},
   "outputs": [],
   "source": [
    "#s=[df.groupby(['Produtos'])['Preço_unitario'].sum()]"
   ]
  },
  {
   "cell_type": "code",
   "execution_count": 7,
   "id": "c020a0a2",
   "metadata": {},
   "outputs": [],
   "source": [
    "#c=[df.groupby(['Produtos'])['Produtos'].count()]"
   ]
  },
  {
   "cell_type": "code",
   "execution_count": 8,
   "id": "12175689",
   "metadata": {},
   "outputs": [],
   "source": [
    "#dict(zip(s, c)) # Transformando as listas em um dicionário"
   ]
  },
  {
   "cell_type": "code",
   "execution_count": 9,
   "id": "020af324",
   "metadata": {},
   "outputs": [],
   "source": [
    "#s"
   ]
  },
  {
   "cell_type": "code",
   "execution_count": 10,
   "id": "8507740b",
   "metadata": {},
   "outputs": [],
   "source": [
    "#c"
   ]
  },
  {
   "cell_type": "code",
   "execution_count": 12,
   "id": "9120b05a",
   "metadata": {},
   "outputs": [],
   "source": [
    "def qtde_por_produto():\n",
    "  l = [(vendas[i]['produto'],vendas[i]['pu']) for i in vendas]\n",
    "  df = pd.DataFrame(l, columns =['Produtos', 'Preço_unitario'])\n",
    "  c=[df.groupby(['Produtos'])['Produtos'].count()]\n",
    "  return c"
   ]
  },
  {
   "cell_type": "code",
   "execution_count": 13,
   "id": "4246bf3a",
   "metadata": {},
   "outputs": [
    {
     "data": {
      "text/plain": [
       "[Produtos\n",
       " banana               1\n",
       " catchup              2\n",
       " laranja              2\n",
       " maionese             1\n",
       " mostarda             2\n",
       " pão de caixa         3\n",
       " refrigerante 2l      1\n",
       " refrigerante lata    1\n",
       " tomate               1\n",
       " Name: Produtos, dtype: int64]"
      ]
     },
     "execution_count": 13,
     "metadata": {},
     "output_type": "execute_result"
    }
   ],
   "source": [
    "qtde_por_produto()"
   ]
  },
  {
   "cell_type": "code",
   "execution_count": null,
   "id": "3cd02d76",
   "metadata": {},
   "outputs": [],
   "source": []
  }
 ],
 "metadata": {
  "kernelspec": {
   "display_name": "Python 3 (ipykernel)",
   "language": "python",
   "name": "python3"
  },
  "language_info": {
   "codemirror_mode": {
    "name": "ipython",
    "version": 3
   },
   "file_extension": ".py",
   "mimetype": "text/x-python",
   "name": "python",
   "nbconvert_exporter": "python",
   "pygments_lexer": "ipython3",
   "version": "3.9.7"
  }
 },
 "nbformat": 4,
 "nbformat_minor": 5
}
